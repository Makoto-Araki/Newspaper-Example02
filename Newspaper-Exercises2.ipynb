{
 "cells": [
  {
   "cell_type": "code",
   "execution_count": 14,
   "metadata": {},
   "outputs": [
    {
     "name": "stderr",
     "output_type": "stream",
     "text": [
      "[nltk_data] Downloading package punkt to\n",
      "[nltk_data]     C:\\Users\\Owner\\AppData\\Roaming\\nltk_data...\n",
      "[nltk_data]   Package punkt is already up-to-date!\n"
     ]
    }
   ],
   "source": [
    "# ライブラリのインポート\n",
    "from newspaper import Article\n",
    "import nltk\n",
    "\n",
    "# 日本語のニュースサイトの記事のURL\n",
    "url = 'https://www.cnn.co.jp/business/35192843.html'\n",
    "article = Article(url)\n",
    "\n",
    "# 記事の取得と解析\n",
    "article.download()\n",
    "article.parse()\n",
    "\n",
    "# 自然言語処理のライブラリのダウンロードと実行\n",
    "nltk.download('punkt')\n",
    "article.nlp()"
   ]
  },
  {
   "cell_type": "code",
   "execution_count": 15,
   "metadata": {
    "scrolled": true
   },
   "outputs": [
    {
     "data": {
      "text/plain": [
       "'（ＣＮＮ） 欧州連合（ＥＵ）のフォンデアライエン欧州委員長は、ＥＵがロシアからパイプラインを経由して輸入している天然ガスについて、価格の上限を設定する準備を進めていると明らかにした。フォンデアライエン氏はまた、ＥＵの行政執行機関である欧州委員会がエネルギー価格の上昇に対処している家庭や事業者への支援を準備していると述べた。ＥＵ加盟国のエネルギー相は９日にブリュッセルで緊急会合を開いて、上昇するガス価格への対応を協議する。ロシアは５日、パイプライン「ノルドストリーム１」を経由した欧州へのガス供給の混乱について、西側諸国の制裁を非難し、制裁が解除されればガス供給が再開されるとの見通しを示した。フォンデアライエン氏は、ガスの供給を遮断してエネルギー市場を操作することでエネルギーを兵器として使っているとして、ロシアのプーチン大統領を非難した。'"
      ]
     },
     "execution_count": 15,
     "metadata": {},
     "output_type": "execute_result"
    }
   ],
   "source": [
    "# サマリーを確認\n",
    "article.summary"
   ]
  },
  {
   "cell_type": "code",
   "execution_count": 16,
   "metadata": {},
   "outputs": [
    {
     "data": {
      "text/plain": [
       "'（ＣＮＮ） 欧州連合（ＥＵ）のフォンデアライエン欧州委員長は、ＥＵがロシアからパイプラインを経由して輸入している天然ガスについて、価格の上限を設定する準備を進めていると明らかにした。\\n\\nフォンデアライエン氏はまた、ＥＵの行政執行機関である欧州委員会がエネルギー価格の上昇に対処している家庭や事業者への支援を準備していると述べた。\\n\\nＥＵ加盟国のエネルギー相は９日にブリュッセルで緊急会合を開いて、上昇するガス価格への対応を協議する。\\n\\nロシアは５日、パイプライン「ノルドストリーム１」を経由した欧州へのガス供給の混乱について、西側諸国の制裁を非難し、制裁が解除されればガス供給が再開されるとの見通しを示した。\\n\\nフォンデアライエン氏は、ガスの供給を遮断してエネルギー市場を操作することでエネルギーを兵器として使っているとして、ロシアのプーチン大統領を非難した。'"
      ]
     },
     "execution_count": 16,
     "metadata": {},
     "output_type": "execute_result"
    }
   ],
   "source": [
    "# 記事の全文\n",
    "article.text"
   ]
  },
  {
   "cell_type": "code",
   "execution_count": null,
   "metadata": {},
   "outputs": [],
   "source": []
  }
 ],
 "metadata": {
  "kernelspec": {
   "display_name": "Python 3",
   "language": "python",
   "name": "python3"
  },
  "language_info": {
   "codemirror_mode": {
    "name": "ipython",
    "version": 3
   },
   "file_extension": ".py",
   "mimetype": "text/x-python",
   "name": "python",
   "nbconvert_exporter": "python",
   "pygments_lexer": "ipython3",
   "version": "3.8.3"
  }
 },
 "nbformat": 4,
 "nbformat_minor": 4
}
