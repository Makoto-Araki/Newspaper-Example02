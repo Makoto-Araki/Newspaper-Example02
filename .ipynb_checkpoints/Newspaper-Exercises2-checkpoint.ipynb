{
 "cells": [
  {
   "cell_type": "code",
   "execution_count": 20,
   "metadata": {},
   "outputs": [
    {
     "name": "stderr",
     "output_type": "stream",
     "text": [
      "[nltk_data] Downloading package punkt to\n",
      "[nltk_data]     C:\\Users\\Owner\\AppData\\Roaming\\nltk_data...\n",
      "[nltk_data]   Package punkt is already up-to-date!\n"
     ]
    }
   ],
   "source": [
    "# ライブラリのインポート\n",
    "from newspaper import Article\n",
    "import nltk\n",
    "\n",
    "# 日本語のニュースサイトの記事のURL\n",
    "#url = 'https://www.cnn.co.jp/business/35192843.html'\n",
    "url = 'https://news.yahoo.co.jp/articles/d82abaed599335edbb5392244bfe386aeba79f48'\n",
    "article = Article(url)\n",
    "\n",
    "# 記事の取得と解析\n",
    "article.download()\n",
    "article.parse()\n",
    "\n",
    "# 自然言語処理のライブラリのダウンロードと実行\n",
    "nltk.download('punkt')\n",
    "article.nlp()"
   ]
  },
  {
   "cell_type": "code",
   "execution_count": 21,
   "metadata": {
    "scrolled": true
   },
   "outputs": [
    {
     "data": {
      "text/plain": [
       "'【ワシントン時事】バイデン米大統領は13日、長引く物価高騰に関し、「インフレを抑え込むには、さらなる時間と決意が必要だ」と国民に理解を求めた。 8月に成立した「インフレ抑制法」をアピールするが、物価押し下げ効果は不透明。11月の中間選挙を控え、政権の打つ手は乏しい。 この日発表された8月の消費者物価指数（CPI）は前年同月比8．3％上昇と、市場予想を上回る伸びとなった。値上がりは新車や家賃といった幅広い品目に波及。「インフレ圧力が極めて根強い」（米投資銀行）現状を浮き彫りにした。 こうした中、バイデン氏はインフレ抑制法に期待をかける。ホワイトハウスで13日に開かれた同法成立に関する式典で、「（抑制法は）食卓でのインフレを和らげる」と強調した。 だが抑制法の柱は、電気自動車（EV）の普及促進など気候変動対策と、大企業や富裕層への課税強化による財政赤字の削減。連邦準備制度理事会（FRB）高官も「経済への効果が出るには数年かかる」と認めており、物価高への即効薬は見当たらない状況だ。'"
      ]
     },
     "execution_count": 21,
     "metadata": {},
     "output_type": "execute_result"
    }
   ],
   "source": [
    "# サマリーを確認\n",
    "article.summary"
   ]
  },
  {
   "cell_type": "code",
   "execution_count": 22,
   "metadata": {},
   "outputs": [
    {
     "data": {
      "text/plain": [
       "'【ワシントン時事】バイデン米大統領は13日、長引く物価高騰に関し、「インフレを抑え込むには、さらなる時間と決意が必要だ」と国民に理解を求めた。 8月に成立した「インフレ抑制法」をアピールするが、物価押し下げ効果は不透明。11月の中間選挙を控え、政権の打つ手は乏しい。 この日発表された8月の消費者物価指数（CPI）は前年同月比8．3％上昇と、市場予想を上回る伸びとなった。値上がりは新車や家賃といった幅広い品目に波及。「インフレ圧力が極めて根強い」（米投資銀行）現状を浮き彫りにした。 こうした中、バイデン氏はインフレ抑制法に期待をかける。ホワイトハウスで13日に開かれた同法成立に関する式典で、「（抑制法は）食卓でのインフレを和らげる」と強調した。 だが抑制法の柱は、電気自動車（EV）の普及促進など気候変動対策と、大企業や富裕層への課税強化による財政赤字の削減。連邦準備制度理事会（FRB）高官も「経済への効果が出るには数年かかる」と認めており、物価高への即効薬は見当たらない状況だ。'"
      ]
     },
     "execution_count": 22,
     "metadata": {},
     "output_type": "execute_result"
    }
   ],
   "source": [
    "# 記事の全文\n",
    "article.text"
   ]
  },
  {
   "cell_type": "code",
   "execution_count": null,
   "metadata": {},
   "outputs": [],
   "source": []
  }
 ],
 "metadata": {
  "kernelspec": {
   "display_name": "Python 3",
   "language": "python",
   "name": "python3"
  },
  "language_info": {
   "codemirror_mode": {
    "name": "ipython",
    "version": 3
   },
   "file_extension": ".py",
   "mimetype": "text/x-python",
   "name": "python",
   "nbconvert_exporter": "python",
   "pygments_lexer": "ipython3",
   "version": "3.8.3"
  }
 },
 "nbformat": 4,
 "nbformat_minor": 4
}
