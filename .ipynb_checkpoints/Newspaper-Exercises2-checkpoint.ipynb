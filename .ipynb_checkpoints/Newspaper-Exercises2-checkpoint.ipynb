{
 "cells": [
  {
   "cell_type": "code",
   "execution_count": 1,
   "metadata": {},
   "outputs": [],
   "source": [
    "# ライブラリのインポート\n",
    "from newspaper import Article\n",
    "\n",
    "# 英語のニュースサイトの記事のURL\n",
    "url = 'https://www.cnn.co.jp/business/35192843.html'\n",
    "article = Article(url)\n",
    "\n",
    "# 記事の取得と解析\n",
    "article.download()\n",
    "article.parse()"
   ]
  },
  {
   "cell_type": "code",
   "execution_count": 2,
   "metadata": {},
   "outputs": [],
   "source": [
    "# 記事の発行日時\n",
    "article.publish_date"
   ]
  },
  {
   "cell_type": "code",
   "execution_count": 3,
   "metadata": {},
   "outputs": [
    {
     "data": {
      "text/plain": [
       "[]"
      ]
     },
     "execution_count": 3,
     "metadata": {},
     "output_type": "execute_result"
    }
   ],
   "source": [
    "# 記事の作成者\n",
    "article.authors"
   ]
  },
  {
   "cell_type": "code",
   "execution_count": 4,
   "metadata": {},
   "outputs": [
    {
     "data": {
      "text/plain": [
       "'（ＣＮＮ） 欧州連合（ＥＵ）のフォンデアライエン欧州委員長は、ＥＵがロシアからパイプラインを経由して輸入している天然ガスについて、価格の上限を設定する準備を進めていると明らかにした。\\n\\nフォンデアライエン氏はまた、ＥＵの行政執行機関である欧州委員会がエネルギー価格の上昇に対処している家庭や事業者への支援を準備していると述べた。\\n\\nＥＵ加盟国のエネルギー相は９日にブリュッセルで緊急会合を開いて、上昇するガス価格への対応を協議する。\\n\\nロシアは５日、パイプライン「ノルドストリーム１」を経由した欧州へのガス供給の混乱について、西側諸国の制裁を非難し、制裁が解除されればガス供給が再開されるとの見通しを示した。\\n\\nフォンデアライエン氏は、ガスの供給を遮断してエネルギー市場を操作することでエネルギーを兵器として使っているとして、ロシアのプーチン大統領を非難した。'"
      ]
     },
     "execution_count": 4,
     "metadata": {},
     "output_type": "execute_result"
    }
   ],
   "source": [
    "# 記事の全文\n",
    "article.text"
   ]
  },
  {
   "cell_type": "code",
   "execution_count": 5,
   "metadata": {},
   "outputs": [
    {
     "name": "stderr",
     "output_type": "stream",
     "text": [
      "[nltk_data] Downloading package punkt to\n",
      "[nltk_data]     C:\\Users\\Owner\\AppData\\Roaming\\nltk_data...\n",
      "[nltk_data]   Package punkt is already up-to-date!\n"
     ]
    },
    {
     "data": {
      "text/plain": [
       "True"
      ]
     },
     "execution_count": 5,
     "metadata": {},
     "output_type": "execute_result"
    }
   ],
   "source": [
    "# ライブラリのインポート\n",
    "import nltk\n",
    "nltk.download('punkt')"
   ]
  },
  {
   "cell_type": "code",
   "execution_count": 6,
   "metadata": {},
   "outputs": [],
   "source": [
    "# 自然言語処理を実行\n",
    "article.nlp()"
   ]
  },
  {
   "cell_type": "code",
   "execution_count": 7,
   "metadata": {},
   "outputs": [
    {
     "data": {
      "text/plain": [
       "['ｅｕロシア産ガスに上限価格設定へ',\n",
       " 'ｃｎｎ',\n",
       " '欧州連合ｅｕのフォンデアライエン欧州委員長はｅｕがロシアからパイプラインを経由して輸入している天然ガスについて価格の上限を設定する準備を進めていると明らかにしたフォンデアライエン氏はまたｅｕの行政執行機関である欧州委員会がエネルギー価格の上昇に対処している家庭や事業者への支援を準備していると述べたｅｕ加盟国のエネルギー相は９日にブリュッセルで緊急会合を開いて上昇するガス価格への対応を協議するロシアは５日パイプラインノルドストリーム１を経由した欧州へのガス供給の混乱について西側諸国の制裁を非難し制裁が解除されればガス供給が再開されるとの見通しを示したフォンデアライエン氏はガスの供給を遮断してエネルギー市場を操作することでエネルギーを兵器として使っているとしてロシアのプーチン大統領を非難した']"
      ]
     },
     "execution_count": 7,
     "metadata": {},
     "output_type": "execute_result"
    }
   ],
   "source": [
    "# キーワードを確認\n",
    "article.keywords"
   ]
  },
  {
   "cell_type": "code",
   "execution_count": 8,
   "metadata": {},
   "outputs": [
    {
     "data": {
      "text/plain": [
       "'（ＣＮＮ） 欧州連合（ＥＵ）のフォンデアライエン欧州委員長は、ＥＵがロシアからパイプラインを経由して輸入している天然ガスについて、価格の上限を設定する準備を進めていると明らかにした。フォンデアライエン氏はまた、ＥＵの行政執行機関である欧州委員会がエネルギー価格の上昇に対処している家庭や事業者への支援を準備していると述べた。ＥＵ加盟国のエネルギー相は９日にブリュッセルで緊急会合を開いて、上昇するガス価格への対応を協議する。ロシアは５日、パイプライン「ノルドストリーム１」を経由した欧州へのガス供給の混乱について、西側諸国の制裁を非難し、制裁が解除されればガス供給が再開されるとの見通しを示した。フォンデアライエン氏は、ガスの供給を遮断してエネルギー市場を操作することでエネルギーを兵器として使っているとして、ロシアのプーチン大統領を非難した。'"
      ]
     },
     "execution_count": 8,
     "metadata": {},
     "output_type": "execute_result"
    }
   ],
   "source": [
    "# サマリーを確認\n",
    "article.summary"
   ]
  },
  {
   "cell_type": "code",
   "execution_count": null,
   "metadata": {},
   "outputs": [],
   "source": []
  }
 ],
 "metadata": {
  "kernelspec": {
   "display_name": "Python 3",
   "language": "python",
   "name": "python3"
  },
  "language_info": {
   "codemirror_mode": {
    "name": "ipython",
    "version": 3
   },
   "file_extension": ".py",
   "mimetype": "text/x-python",
   "name": "python",
   "nbconvert_exporter": "python",
   "pygments_lexer": "ipython3",
   "version": "3.8.3"
  }
 },
 "nbformat": 4,
 "nbformat_minor": 4
}
